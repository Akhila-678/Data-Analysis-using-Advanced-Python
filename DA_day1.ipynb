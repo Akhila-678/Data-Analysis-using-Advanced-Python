{
  "nbformat": 4,
  "nbformat_minor": 0,
  "metadata": {
    "colab": {
      "provenance": []
    },
    "kernelspec": {
      "name": "python3",
      "display_name": "Python 3"
    },
    "language_info": {
      "name": "python"
    }
  },
  "cells": [
    {
      "cell_type": "code",
      "source": [
        "a=5\n",
        "print(a)"
      ],
      "metadata": {
        "colab": {
          "base_uri": "https://localhost:8080/"
        },
        "id": "kHaa7SWKrPLe",
        "outputId": "6d7cf5a5-e49b-4553-e7cc-e6ad5ecb5248"
      },
      "execution_count": null,
      "outputs": [
        {
          "output_type": "stream",
          "name": "stdout",
          "text": [
            "5\n"
          ]
        }
      ]
    },
    {
      "cell_type": "code",
      "source": [
        "#6 table\n",
        "a=6\n",
        "for i in range(1,11):\n",
        "  print(a,\"*\",i,\"=\",a*i)"
      ],
      "metadata": {
        "colab": {
          "base_uri": "https://localhost:8080/"
        },
        "id": "AfvZsWilri_k",
        "outputId": "23c8c622-a501-4989-ffde-a05737b2f537"
      },
      "execution_count": null,
      "outputs": [
        {
          "output_type": "stream",
          "name": "stdout",
          "text": [
            "6 * 1 = 6\n",
            "6 * 2 = 12\n",
            "6 * 3 = 18\n",
            "6 * 4 = 24\n",
            "6 * 5 = 30\n",
            "6 * 6 = 36\n",
            "6 * 7 = 42\n",
            "6 * 8 = 48\n",
            "6 * 9 = 54\n",
            "6 * 10 = 60\n"
          ]
        }
      ]
    },
    {
      "cell_type": "code",
      "source": [
        "#variable and print\n",
        "a=5\n",
        "print(\"I am\",a,\"years old\")"
      ],
      "metadata": {
        "colab": {
          "base_uri": "https://localhost:8080/"
        },
        "id": "8DmaXNuWsPkP",
        "outputId": "fdb33574-05f3-4ca1-e62b-4fc60a2ce13e"
      },
      "execution_count": null,
      "outputs": [
        {
          "output_type": "stream",
          "name": "stdout",
          "text": [
            "I am 5 years old\n"
          ]
        }
      ]
    },
    {
      "cell_type": "code",
      "source": [
        "#arithmetic\n",
        "a=5\n",
        "b=25\n",
        "print(a+b)"
      ],
      "metadata": {
        "colab": {
          "base_uri": "https://localhost:8080/"
        },
        "id": "MMYp_8gAsXsi",
        "outputId": "61ad7b2a-262a-48a8-ee59-27b98912e491"
      },
      "execution_count": null,
      "outputs": [
        {
          "output_type": "stream",
          "name": "stdout",
          "text": [
            "30\n"
          ]
        }
      ]
    },
    {
      "cell_type": "code",
      "source": [
        "#power\n",
        "print(2**4)"
      ],
      "metadata": {
        "colab": {
          "base_uri": "https://localhost:8080/"
        },
        "id": "KdewslyXsl2s",
        "outputId": "741bdc96-e0be-4bd4-d9f3-d4d0c68d82aa"
      },
      "execution_count": null,
      "outputs": [
        {
          "output_type": "stream",
          "name": "stdout",
          "text": [
            "16\n"
          ]
        }
      ]
    },
    {
      "cell_type": "code",
      "source": [
        "#floor division\n",
        "print(25//2)"
      ],
      "metadata": {
        "colab": {
          "base_uri": "https://localhost:8080/"
        },
        "id": "FMzHfLKIsrOP",
        "outputId": "4a6f249e-56e1-49d5-9680-ebdef3326d20"
      },
      "execution_count": null,
      "outputs": [
        {
          "output_type": "stream",
          "name": "stdout",
          "text": [
            "12\n"
          ]
        }
      ]
    },
    {
      "cell_type": "code",
      "source": [
        "#relational operator\n",
        "a=6\n",
        "b=6\n",
        "print(a==b)\n",
        "print(a>b)\n",
        "print(a<b)\n",
        "print(a!=b)\n",
        "print(a>=b)\n",
        "print(a<=b)\n"
      ],
      "metadata": {
        "colab": {
          "base_uri": "https://localhost:8080/"
        },
        "id": "HclrfWYJswYS",
        "outputId": "71b7b322-c827-46e5-ed36-52fcfb1bc3e8"
      },
      "execution_count": null,
      "outputs": [
        {
          "output_type": "stream",
          "name": "stdout",
          "text": [
            "True\n",
            "False\n",
            "False\n",
            "False\n",
            "True\n",
            "True\n"
          ]
        }
      ]
    },
    {
      "cell_type": "code",
      "source": [
        "#conditional if\n",
        "#write a program to get a number from the user and check whether it is positive or negative\n",
        "a=int(input(\"Enter a number:\"))\n",
        "print(type(a))"
      ],
      "metadata": {
        "colab": {
          "base_uri": "https://localhost:8080/"
        },
        "id": "fBCKgmDzxRZM",
        "outputId": "4a25c5ed-d7fa-4526-a4c6-8c203b381974"
      },
      "execution_count": null,
      "outputs": [
        {
          "output_type": "stream",
          "name": "stdout",
          "text": [
            "Enter a number:5\n",
            "<class 'int'>\n"
          ]
        }
      ]
    },
    {
      "cell_type": "code",
      "source": [
        "#logical operator\n",
        "a=9\n",
        "b=25\n",
        "print((a>b) and (a<b))#false and true\n",
        "print((a>b) or (a<b))#false or true"
      ],
      "metadata": {
        "colab": {
          "base_uri": "https://localhost:8080/"
        },
        "id": "5nobxdTGxZKB",
        "outputId": "c1a4035f-ad63-4380-ff5a-47f8385f55b6"
      },
      "execution_count": null,
      "outputs": [
        {
          "output_type": "stream",
          "name": "stdout",
          "text": [
            "False\n",
            "True\n"
          ]
        }
      ]
    },
    {
      "cell_type": "code",
      "source": [
        "#membership\n",
        "a=\"pirate\"\n",
        "print(\"a\" not in a)\n",
        "print(\"a\" in a)"
      ],
      "metadata": {
        "colab": {
          "base_uri": "https://localhost:8080/"
        },
        "id": "HgQH6z1qxoo0",
        "outputId": "cfe2d3de-7152-4303-aec2-0259f0acc374"
      },
      "execution_count": null,
      "outputs": [
        {
          "output_type": "stream",
          "name": "stdout",
          "text": [
            "False\n",
            "True\n"
          ]
        }
      ]
    },
    {
      "cell_type": "code",
      "source": [
        "#conditional if\n",
        "a=int(input(\"Enter a number:\"))\n",
        "if(a>0):\n",
        "  print(\"a is positive\")\n",
        "else:\n",
        "  print(\"a is negative\")"
      ],
      "metadata": {
        "colab": {
          "base_uri": "https://localhost:8080/"
        },
        "id": "V45vOHJdyGjK",
        "outputId": "c2b00326-07cc-47c2-d4e2-8e373b5f3d4f"
      },
      "execution_count": null,
      "outputs": [
        {
          "output_type": "stream",
          "name": "stdout",
          "text": [
            "Enter a number:5\n",
            "a is positive\n"
          ]
        }
      ]
    },
    {
      "cell_type": "code",
      "source": [
        "#conditional if elif\n",
        "a=int(input(\"Enter a number:\"))\n",
        "if(a>0):\n",
        "  print(\"a is positive\")\n",
        "elif(a==0):\n",
        "  print(\"a is equal to zero\")\n",
        "else:\n",
        "  print(\"a is negative\")"
      ],
      "metadata": {
        "colab": {
          "base_uri": "https://localhost:8080/"
        },
        "id": "F-0UWvAnynD7",
        "outputId": "03866bbc-efe8-4904-c262-b5a2e9d49c45"
      },
      "execution_count": null,
      "outputs": [
        {
          "output_type": "stream",
          "name": "stdout",
          "text": [
            "Enter a number:0\n",
            "a is equal to zero\n"
          ]
        }
      ]
    },
    {
      "cell_type": "code",
      "source": [
        "#while loop\n",
        "n=int(input(\"Enter a number:\"))\n",
        "i=1\n",
        "while(i<=10):\n",
        "  print(n*i)\n",
        "  i=i+1"
      ],
      "metadata": {
        "colab": {
          "base_uri": "https://localhost:8080/"
        },
        "id": "EtysMx972g0v",
        "outputId": "8c6f8a34-279d-479f-a052-16c0558f8077"
      },
      "execution_count": null,
      "outputs": [
        {
          "output_type": "stream",
          "name": "stdout",
          "text": [
            "Enter a number:5\n",
            "5\n",
            "10\n",
            "15\n",
            "20\n",
            "25\n",
            "30\n",
            "35\n",
            "40\n",
            "45\n",
            "50\n"
          ]
        }
      ]
    },
    {
      "cell_type": "code",
      "source": [
        "#typecasting implicit\n",
        "a=12.6   #float\n",
        "b=4      #int\n",
        "print(a*b)     #interpreter automatically taken the output as float"
      ],
      "metadata": {
        "colab": {
          "base_uri": "https://localhost:8080/"
        },
        "id": "DLogzsjj3MZW",
        "outputId": "40a6e2c7-e6cd-4f6a-b570-0efad40845ae"
      },
      "execution_count": null,
      "outputs": [
        {
          "output_type": "stream",
          "name": "stdout",
          "text": [
            "50.4\n"
          ]
        }
      ]
    },
    {
      "cell_type": "code",
      "source": [
        "#typecasting explicit\n",
        "a=12.6   #float\n",
        "b=4      #int\n",
        "print(int(a*b))     #user"
      ],
      "metadata": {
        "colab": {
          "base_uri": "https://localhost:8080/"
        },
        "id": "2_DB-kn936w7",
        "outputId": "ee3b01bd-84bb-4fdc-8bb2-7425bc96a8ab"
      },
      "execution_count": null,
      "outputs": [
        {
          "output_type": "stream",
          "name": "stdout",
          "text": [
            "50\n"
          ]
        }
      ]
    },
    {
      "cell_type": "code",
      "source": [
        "a=\"45\"\n",
        "int(a)\n",
        "print(type(a))"
      ],
      "metadata": {
        "colab": {
          "base_uri": "https://localhost:8080/"
        },
        "id": "FhA5a_8O4K-4",
        "outputId": "8d73d250-3842-4339-b1cb-85d5b7fde1dd"
      },
      "execution_count": null,
      "outputs": [
        {
          "output_type": "stream",
          "name": "stdout",
          "text": [
            "<class 'str'>\n"
          ]
        }
      ]
    },
    {
      "cell_type": "code",
      "source": [
        "a=\"45\"\n",
        "a=int(a)\n",
        "print(type(a))"
      ],
      "metadata": {
        "colab": {
          "base_uri": "https://localhost:8080/"
        },
        "id": "I6TsBnKy4Ura",
        "outputId": "dc4cb53c-cf3c-4afb-cdb4-5871f585a6b1"
      },
      "execution_count": null,
      "outputs": [
        {
          "output_type": "stream",
          "name": "stdout",
          "text": [
            "<class 'int'>\n"
          ]
        }
      ]
    },
    {
      "cell_type": "code",
      "source": [
        "#data slicing\n",
        "a = \"Python is easy\"\n",
        "print(a[0:6])   #start:stop:step"
      ],
      "metadata": {
        "colab": {
          "base_uri": "https://localhost:8080/"
        },
        "id": "s8cocryA4eAo",
        "outputId": "440d1595-a52d-46d3-b6bf-7a10f9e8b7c0"
      },
      "execution_count": null,
      "outputs": [
        {
          "output_type": "stream",
          "name": "stdout",
          "text": [
            "Python\n"
          ]
        }
      ]
    },
    {
      "cell_type": "code",
      "source": [
        "#data slicing reverse\n",
        "a = \"Python is easy\"\n",
        "print(a[::-1])   #start:stop:step"
      ],
      "metadata": {
        "colab": {
          "base_uri": "https://localhost:8080/"
        },
        "id": "Q-GsGNHs46yy",
        "outputId": "0ba222c4-5a5d-42a8-ce04-8a470ae1e628"
      },
      "execution_count": null,
      "outputs": [
        {
          "output_type": "stream",
          "name": "stdout",
          "text": [
            "ysae si nohtyP\n"
          ]
        }
      ]
    },
    {
      "cell_type": "code",
      "source": [
        "#data slicing\n",
        "a = \"Python is easy\"\n",
        "print(a[::2])   #start:stop:step"
      ],
      "metadata": {
        "colab": {
          "base_uri": "https://localhost:8080/"
        },
        "id": "ERVn0QC25qa-",
        "outputId": "b9e25391-276f-49e2-92a9-23e22a1438df"
      },
      "execution_count": null,
      "outputs": [
        {
          "output_type": "stream",
          "name": "stdout",
          "text": [
            "Pto ses\n"
          ]
        }
      ]
    },
    {
      "cell_type": "markdown",
      "source": [
        "List:\n",
        "1.   List is a collection of elements\n",
        "2.   Heterogenous\n",
        "3.   Mutable(modifiable)\n",
        "\n",
        "\n",
        "\n",
        "\n",
        "\n"
      ],
      "metadata": {
        "id": "575wf1JI9giR"
      }
    },
    {
      "cell_type": "code",
      "source": [
        "#colletions List\n",
        "list=[1,2,3,\"a\",\"b\",5.6]\n",
        "print(list)"
      ],
      "metadata": {
        "colab": {
          "base_uri": "https://localhost:8080/"
        },
        "id": "wQEroZpA5o8U",
        "outputId": "3da9eec8-f1da-44ef-c284-91da82510cdd"
      },
      "execution_count": null,
      "outputs": [
        {
          "output_type": "stream",
          "name": "stdout",
          "text": [
            "[1, 2, 3, 'a', 'b', 5.6]\n"
          ]
        }
      ]
    },
    {
      "cell_type": "code",
      "source": [
        "for i in list:\n",
        "  print(i)"
      ],
      "metadata": {
        "colab": {
          "base_uri": "https://localhost:8080/"
        },
        "id": "3RNXV0LS8lsf",
        "outputId": "3af6c07e-ab9b-4931-b801-e3d6d0acee8b"
      },
      "execution_count": null,
      "outputs": [
        {
          "output_type": "stream",
          "name": "stdout",
          "text": [
            "1\n",
            "2\n",
            "3\n",
            "a\n",
            "b\n",
            "5.6\n"
          ]
        }
      ]
    },
    {
      "cell_type": "code",
      "source": [
        "#appending\n",
        "list.append(10)\n",
        "print(list)"
      ],
      "metadata": {
        "colab": {
          "base_uri": "https://localhost:8080/"
        },
        "id": "mr8FUwR8_CmW",
        "outputId": "8727349b-571d-4da0-94ee-e042887d4cbc"
      },
      "execution_count": null,
      "outputs": [
        {
          "output_type": "stream",
          "name": "stdout",
          "text": [
            "[1, 2, 3, 'a', 'b', 5.6, 10]\n"
          ]
        }
      ]
    },
    {
      "cell_type": "code",
      "source": [
        "#insert at specific index\n",
        "list.insert(3,\"p\")         #list_name.insert(index,element)\n",
        "print(list)"
      ],
      "metadata": {
        "colab": {
          "base_uri": "https://localhost:8080/"
        },
        "id": "WeAUpBJmAISZ",
        "outputId": "75b924ea-8aac-4e71-cefe-582ab726d265"
      },
      "execution_count": null,
      "outputs": [
        {
          "output_type": "stream",
          "name": "stdout",
          "text": [
            "[1, 2, 3, 'p', 'a', 'b', 5.6, 10]\n"
          ]
        }
      ]
    },
    {
      "cell_type": "code",
      "source": [
        "#list adding\n",
        "l1=[1,2,3]\n",
        "l2=[4,5,6]\n",
        "print(l1+l2)"
      ],
      "metadata": {
        "colab": {
          "base_uri": "https://localhost:8080/"
        },
        "id": "-tXXHp0nBXAO",
        "outputId": "02216aaf-54f5-4425-d17d-a673e28c1ecf"
      },
      "execution_count": null,
      "outputs": [
        {
          "output_type": "stream",
          "name": "stdout",
          "text": [
            "[1, 2, 3, 4, 5, 6]\n"
          ]
        }
      ]
    },
    {
      "cell_type": "code",
      "source": [
        "#list adding\n",
        "l1=[1,2,3]\n",
        "l2=[4,5,6]\n",
        "l1.extend(l2)\n",
        "print(l1)\n",
        "print(l2)"
      ],
      "metadata": {
        "colab": {
          "base_uri": "https://localhost:8080/"
        },
        "id": "va_Hv_5xCM_r",
        "outputId": "d400a3bd-c9e7-4ddf-acc4-74f039d4a65f"
      },
      "execution_count": null,
      "outputs": [
        {
          "output_type": "stream",
          "name": "stdout",
          "text": [
            "[1, 2, 3, 4, 5, 6]\n",
            "[4, 5, 6]\n"
          ]
        }
      ]
    },
    {
      "cell_type": "code",
      "source": [
        "#list pop\n",
        "l1=[1,2,3,4,5,6]\n",
        "l1.pop(1)                  #list_name.pop(index_no)\n",
        "print(l1)\n",
        "l1.remove(5)               #list_name.remove(member element)\n",
        "print(l1)"
      ],
      "metadata": {
        "colab": {
          "base_uri": "https://localhost:8080/"
        },
        "id": "jlM17oLDCiHe",
        "outputId": "949a5d4d-ed7c-48cd-e76f-c0c54b35dc17"
      },
      "execution_count": null,
      "outputs": [
        {
          "output_type": "stream",
          "name": "stdout",
          "text": [
            "[1, 3, 4, 5, 6]\n",
            "[1, 3, 4, 6]\n"
          ]
        }
      ]
    },
    {
      "cell_type": "code",
      "source": [
        "#min and max works for only numeric data types\n",
        "l1=[1,6,2,9,5,0,22,8,4,26.9]\n",
        "print(min(l1))       #min(list_name)\n",
        "print(max(l1))       #max(list_name)"
      ],
      "metadata": {
        "colab": {
          "base_uri": "https://localhost:8080/"
        },
        "id": "dwXq3DCEDhLi",
        "outputId": "7e0bb15a-570b-409d-8bec-80c87462727b"
      },
      "execution_count": null,
      "outputs": [
        {
          "output_type": "stream",
          "name": "stdout",
          "text": [
            "0\n",
            "26.9\n"
          ]
        }
      ]
    },
    {
      "cell_type": "markdown",
      "source": [
        "List Comprehension:\n",
        "\n",
        "\n",
        "1.   Iterates\n",
        "2.   Applies some function on every element\n",
        "3.   Conditions\n",
        "4.   Output : list\n",
        "\n"
      ],
      "metadata": {
        "id": "J_K1yNPuE3hn"
      }
    },
    {
      "cell_type": "code",
      "source": [
        "l1=[2,4,6,8]\n",
        "l2=[i*i for i in l1]   #[output iterate condition]\n",
        "print(l2)"
      ],
      "metadata": {
        "colab": {
          "base_uri": "https://localhost:8080/"
        },
        "id": "DY6uedROFRip",
        "outputId": "920239a5-759b-4de6-a824-69afb701b594"
      },
      "execution_count": null,
      "outputs": [
        {
          "output_type": "stream",
          "name": "stdout",
          "text": [
            "[4, 16, 36, 64]\n"
          ]
        }
      ]
    },
    {
      "cell_type": "code",
      "source": [
        "#list comp with condition\n",
        "l1=[1,2,3,4,5,6,7,8,9]\n",
        "l2=[i*i for i in l1 if i%3==0]   #[output iterate condition]\n",
        "print(l2)"
      ],
      "metadata": {
        "colab": {
          "base_uri": "https://localhost:8080/"
        },
        "id": "CyTLJKTAFwKw",
        "outputId": "28a1a0a7-8822-4bef-c930-6bb8653a42e0"
      },
      "execution_count": null,
      "outputs": [
        {
          "output_type": "stream",
          "name": "stdout",
          "text": [
            "[9, 36, 81]\n"
          ]
        }
      ]
    },
    {
      "cell_type": "code",
      "source": [
        "l1=[45,67,89,90]\n",
        "l2=[i**2 for i in l1 if i<60]\n",
        "print(l2)"
      ],
      "metadata": {
        "colab": {
          "base_uri": "https://localhost:8080/"
        },
        "id": "1b_kSLqkGh2y",
        "outputId": "4b3551b2-a0ef-47b0-923b-3fc6f780181a"
      },
      "execution_count": null,
      "outputs": [
        {
          "output_type": "stream",
          "name": "stdout",
          "text": [
            "[2025]\n"
          ]
        }
      ]
    },
    {
      "cell_type": "code",
      "source": [
        "#the salaries of 5 employees in a company is taken as a list. The tax is 10% if the salary is less than or equal to 50000 or it is 15%\n",
        "#create a new list with tx amounts\n",
        "list=[67000 , 45000 , 89000 , 34000 , 50000]\n",
        "tax=[]\n",
        "for i in list:\n",
        "  if i<=50000:\n",
        "    t=i*0.1\n",
        "  else:\n",
        "    t=i*0.15\n",
        "  tax.append(t)\n",
        "print(tax)\n"
      ],
      "metadata": {
        "colab": {
          "base_uri": "https://localhost:8080/"
        },
        "id": "hQo_YDafHR1x",
        "outputId": "b2269f4e-23b5-413c-eb77-8d571f3997e5"
      },
      "execution_count": null,
      "outputs": [
        {
          "output_type": "stream",
          "name": "stdout",
          "text": [
            "[10050.0, 4500.0, 13350.0, 3400.0, 5000.0]\n"
          ]
        }
      ]
    },
    {
      "cell_type": "code",
      "source": [
        "#another method using condition\n",
        "#the salaries of 5 employees in a company is taken as a list. The tax is 10% if the salary is less than or equal to 50000 or it is 15%\n",
        "#create a new list with tx amounts\n",
        "list=[67000 , 45000 , 89000 , 34000 , 50000]\n",
        "\n",
        "#list_name = [ (body of if) if (condition) else (body of else) iterate ]\n",
        "\n",
        "tax=[i*0.1 if i<=50000 else i*0.15 for i in list]\n",
        "print(tax)"
      ],
      "metadata": {
        "colab": {
          "base_uri": "https://localhost:8080/"
        },
        "id": "sEW6YtAzJVDT",
        "outputId": "e0522f07-5a75-482f-e039-a81ed62c4175"
      },
      "execution_count": null,
      "outputs": [
        {
          "output_type": "stream",
          "name": "stdout",
          "text": [
            "[10050.0, 4500.0, 13350.0, 3400.0, 5000.0]\n"
          ]
        }
      ]
    }
  ]
}